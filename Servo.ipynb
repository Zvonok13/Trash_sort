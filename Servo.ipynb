{
  "nbformat": 4,
  "nbformat_minor": 0,
  "metadata": {
    "colab": {
      "provenance": [],
      "authorship_tag": "ABX9TyO6yoQydxGZR4tJ2M9QQheG",
      "include_colab_link": true
    },
    "kernelspec": {
      "name": "python3",
      "display_name": "Python 3"
    },
    "language_info": {
      "name": "python"
    }
  },
  "cells": [
    {
      "cell_type": "markdown",
      "metadata": {
        "id": "view-in-github",
        "colab_type": "text"
      },
      "source": [
        "<a href=\"https://colab.research.google.com/github/Zvonok13/Trash_sort/blob/main/Servo.ipynb\" target=\"_parent\"><img src=\"https://colab.research.google.com/assets/colab-badge.svg\" alt=\"Open In Colab\"/></a>"
      ]
    },
    {
      "cell_type": "code",
      "execution_count": null,
      "metadata": {
        "id": "ot4AfeUAacrS"
      },
      "outputs": [],
      "source": [
        "import cv2\n",
        "import numpy as np\n",
        "from tensorflow import keras\n",
        "import serial\n",
        "import asyncio\n",
        "\n",
        "# Путь к модели\n",
        "model_path = \"C:/Users/zvono/PycharmProjects/od arduino/garbage_recognition_model_au70.h5\"\n",
        "model = keras.models.load_model(model_path)\n",
        "\n",
        "# Подключение к порту Arduinoqq\n",
        "ser = serial.Serial('COM3', 9600)  # Указать правильный порт и скорость\n",
        "\n",
        "# Функция для предварительной обработки изображения\n",
        "def preprocess_image(image):\n",
        "    # Ресайз изображения и нормализация значений пикселей\n",
        "    processed_image = cv2.resize(image, (224, 224)) / 255.0\n",
        "    processed_image = np.expand_dims(processed_image, axis=0)\n",
        "    return processed_image\n",
        "\n",
        "# Функция для классификации объектов\n",
        "def classify_object(image):\n",
        "    # Предварительная обработка изображения\n",
        "    processed_image = preprocess_image(image)\n",
        "\n",
        "    # Классификация объектов с использованием модели\n",
        "    predictions = model.predict(processed_image)\n",
        "    class_index = np.argmax(predictions)\n",
        "    class_label = get_class_label(class_index)\n",
        "\n",
        "    # Отображение результата на изображении\n",
        "    cv2.putText(image, f\"Class: {class_label}\", (10, 30), cv2.FONT_HERSHEY_SIMPLEX, 1, (0, 255, 0), 2)\n",
        "\n",
        "    return image, class_index\n",
        "\n",
        "# Функция для получения метки класса по индексу\n",
        "def get_class_label(index):\n",
        "    # Ваши метки классов\n",
        "    class_labels = [\"plastic\", \"glass\", \"paper\", \"metal\"]\n",
        "    return class_labels[index]\n",
        "\n",
        "async def read_from_arduino():\n",
        "    while True:\n",
        "        if ser.in_waiting > 0:\n",
        "            data = ser.readline().decode().strip()\n",
        "            print(f\"Arduino: {data}\")\n",
        "            if data == \"1\":\n",
        "                return\n",
        "\n",
        "async def send_to_arduino(class_index):\n",
        "    class_label = 0\n",
        "    if class_index == 0:  # plastic\n",
        "        class_label = 1\n",
        "    elif class_index == 1:  # glass или metal\n",
        "        class_label = 2\n",
        "    elif class_index == 2:  # paper\n",
        "        class_label = 3\n",
        "    ser.write(str(class_label).encode())\n",
        "\n",
        "# Запуск видеопотока с камеры\n",
        "async def main():\n",
        "    cap = cv2.VideoCapture(0)\n",
        "    while True:\n",
        "        await read_from_arduino()\n",
        "        ret, frame = cap.read()\n",
        "        if not ret:\n",
        "            break\n",
        "        _, class_index = classify_object(frame)\n",
        "        await send_to_arduino(class_index)\n",
        "        cv2.imshow('Classified Frame', frame)\n",
        "        if cv2.waitKey(1) & 0xFF == ord('q'):\n",
        "            break\n",
        "\n",
        "# Запуск основной функции асинхронно\n",
        "asyncio.run(main())\n"
      ]
    }
  ]
}